{
 "cells": [
  {
   "cell_type": "code",
   "execution_count": 1,
   "metadata": {},
   "outputs": [],
   "source": [
    "import sys\n",
    "import os\n",
    "import pandas as pd\n",
    "import numpy as np\n",
    "from sklearn.metrics import root_mean_squared_error\n",
    "from sktime.performance_metrics.forecasting import mean_absolute_percentage_error\n",
    "\n",
    "sys.path.append(os.path.abspath(\"../utils\"))\n",
    "sys.path.append(os.path.abspath(\"../features\"))\n",
    "\n",
    "from ensemble import EnsembleModel\n",
    "from data_loading import create_features_and_targets\n",
    "\n",
    "from utils import (\n",
    "    evaluate_predictions_3_days,\n",
    "    plot_predictions_vs_true,\n",
    ")"
   ]
  },
  {
   "cell_type": "code",
   "execution_count": null,
   "metadata": {},
   "outputs": [],
   "source": [
    "particle = \"NO2\"\n",
    "data_path = os.path.join(os.path.dirname(os.path.dirname(os.getcwd())), \"data/processed/combined_data.csv\")\n",
    "data = pd.read_csv(data_path)\n",
    "X_train, y_train, X_test, y_test, X_val, y_val = create_features_and_targets(data, particle)"
   ]
  },
  {
   "cell_type": "code",
   "execution_count": null,
   "metadata": {},
   "outputs": [],
   "source": [
    "ensemble_model = EnsembleModel(particle=particle)\n",
    "ensemble_model.load_base_models()"
   ]
  },
  {
   "cell_type": "code",
   "execution_count": null,
   "metadata": {},
   "outputs": [],
   "source": [
    "ensemble_model.train(X_train, y_train)\n",
    "predictions = ensemble_model.predict(X_test)"
   ]
  },
  {
   "cell_type": "code",
   "execution_count": null,
   "metadata": {},
   "outputs": [],
   "source": [
    "rmse_values_3day, mape_values_3day, fig_3_days = evaluate_predictions_3_days(\n",
    "    predictions, y_test\n",
    ")\n",
    "true_vs_pred_plot = plot_predictions_vs_true(predictions, y_test)\n",
    "\n",
    "rmse = root_mean_squared_error(y_test, predictions))\n",
    "mape = mean_absolute_percentage_error(predictions, y_test, symmetric=True)\n",
    "print(rmse)\n",
    "print(mape)"
   ]
  }
 ],
 "metadata": {
  "kernelspec": {
   "display_name": "pollution-forecasting",
   "language": "python",
   "name": "python3"
  },
  "language_info": {
   "codemirror_mode": {
    "name": "ipython",
    "version": 3
   },
   "file_extension": ".py",
   "mimetype": "text/x-python",
   "name": "python",
   "nbconvert_exporter": "python",
   "pygments_lexer": "ipython3",
   "version": "3.12.6"
  }
 },
 "nbformat": 4,
 "nbformat_minor": 2
}
